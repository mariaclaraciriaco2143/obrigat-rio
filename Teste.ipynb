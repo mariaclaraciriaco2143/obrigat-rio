{
  "nbformat": 4,
  "nbformat_minor": 0,
  "metadata": {
    "colab": {
      "provenance": [],
      "authorship_tag": "ABX9TyO0ve19q7AK03M5dEaDOmCk",
      "include_colab_link": true
    },
    "kernelspec": {
      "name": "python3",
      "display_name": "Python 3"
    },
    "language_info": {
      "name": "python"
    }
  },
  "cells": [
    {
      "cell_type": "markdown",
      "metadata": {
        "id": "view-in-github",
        "colab_type": "text"
      },
      "source": [
        "<a href=\"https://colab.research.google.com/github/mariaclaraciriaco2143/obrigat-rio/blob/main/Teste.ipynb\" target=\"_parent\"><img src=\"https://colab.research.google.com/assets/colab-badge.svg\" alt=\"Open In Colab\"/></a>"
      ]
    },
    {
      "cell_type": "code",
      "execution_count": null,
      "metadata": {
        "id": "wDquVymLX6AA"
      },
      "outputs": [],
      "source": [
        "f = float (input('Digite a temperatura em Fahreinheit: '))\n",
        "c = ((5 * (f - 32)) / 9)\n",
        "print ('A temperatura em Celsius é: ', c)"
      ]
    }
  ]
}