{
  "nbformat": 4,
  "nbformat_minor": 0,
  "metadata": {
    "colab": {
      "provenance": [],
      "authorship_tag": "ABX9TyPj/xzHyuGdkmjdcASkDfdz",
      "include_colab_link": true
    },
    "kernelspec": {
      "name": "python3",
      "display_name": "Python 3"
    },
    "language_info": {
      "name": "python"
    }
  },
  "cells": [
    {
      "cell_type": "markdown",
      "metadata": {
        "id": "view-in-github",
        "colab_type": "text"
      },
      "source": [
        "<a href=\"https://colab.research.google.com/github/mariaclaraciriaco2143/obrigat-rio/blob/main/Media.ipynb\" target=\"_parent\"><img src=\"https://colab.research.google.com/assets/colab-badge.svg\" alt=\"Open In Colab\"/></a>"
      ]
    },
    {
      "cell_type": "code",
      "execution_count": null,
      "metadata": {
        "id": "wDquVymLX6AA"
      },
      "outputs": [],
      "source": []
    },
    {
      "cell_type": "code",
      "source": [
        "nome1 = input('Digite o primeiro nome:');\n",
        "nome2 = input('Digite o segundo nome:');\n",
        "nome3 = input('Digite terceiro nome:');\n",
        "print(nome)\n",
        "idade1 = input('Digite a primeira idade:');\n",
        "idade2 = input('Digite a segunda idade:');\n",
        "idade3 = input('Digite a terceira idade:');\n",
        "idade = [idade1, idade2, idade3]\n",
        "media = (int(idade1) + int(idade2) + int(idade3))/3\n",
        "print('A média de idade é', media);"
      ],
      "metadata": {
        "id": "ng9fezvCakor"
      },
      "execution_count": null,
      "outputs": []
    }
  ]
}