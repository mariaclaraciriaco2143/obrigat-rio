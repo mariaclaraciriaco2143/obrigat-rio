{
  "nbformat": 4,
  "nbformat_minor": 0,
  "metadata": {
    "colab": {
      "provenance": [],
      "authorship_tag": "ABX9TyO/025qcjxuyAlXiHrlyi6r",
      "include_colab_link": true
    },
    "kernelspec": {
      "name": "python3",
      "display_name": "Python 3"
    },
    "language_info": {
      "name": "python"
    }
  },
  "cells": [
    {
      "cell_type": "markdown",
      "metadata": {
        "id": "view-in-github",
        "colab_type": "text"
      },
      "source": [
        "<a href=\"https://colab.research.google.com/github/mariaclaraciriaco2143/obrigat-rio/blob/main/media.ipynb\" target=\"_parent\"><img src=\"https://colab.research.google.com/assets/colab-badge.svg\" alt=\"Open In Colab\"/></a>"
      ]
    },
    {
      "cell_type": "code",
      "execution_count": null,
      "metadata": {
        "id": "wDquVymLX6AA"
      },
      "outputs": [],
      "source": []
    },
    {
      "cell_type": "markdown",
      "source": [
        "Primeira tentativa de codar sem ninguém me orientando."
      ],
      "metadata": {
        "id": "ehNW1x9fYCtU"
      }
    },
    {
      "cell_type": "code",
      "source": [
        "nome = input(\"Digite seu nome:\")\n",
        "nome = str(nome)\n",
        "idade = input (\"Agora, digite sua idade:\")\n",
        "idade = int(idade)\n",
        "print(\"Seu nome é\", nome, \"e sua idade é\", idade, \"anos.\")"
      ],
      "metadata": {
        "colab": {
          "base_uri": "https://localhost:8080/"
        },
        "id": "OtSau03xYLnm",
        "outputId": "d410c5d5-6075-4e81-f5ce-3b3b10b5a9a5"
      },
      "execution_count": null,
      "outputs": [
        {
          "output_type": "stream",
          "name": "stdout",
          "text": [
            "Digite seu nome:Maria\n",
            "Agora, digite sua idade:18\n",
            "Seu nome é Maria e sua idade é 18 anos.\n"
          ]
        }
      ]
    },
    {
      "cell_type": "code",
      "source": [
        "nome1 = input('Digite o primeiro nome:');\n",
        "nome2 = input('Digite o segundo nome:');\n",
        "nome3 = input('Digite terceiro nome:');\n",
        "print(nome)\n",
        "idade1 = input('Digite a primeira idade:');\n",
        "idade2 = input('Digite a segunda idade:');\n",
        "idade3 = input('Digite a terceira idade:');\n",
        "idade = [idade1, idade2, idade3]\n",
        "media = (int(idade1) + int(idade2) + int(idade3))/3\n",
        "print('A média de idade é', media);"
      ],
      "metadata": {
        "colab": {
          "base_uri": "https://localhost:8080/"
        },
        "id": "ng9fezvCakor",
        "outputId": "e45df0e7-8623-4490-a48f-f91e04b02aac"
      },
      "execution_count": null,
      "outputs": [
        {
          "output_type": "stream",
          "name": "stdout",
          "text": [
            "Digite o primeiro nome:maria\n",
            "Digite o segundo nome:clara\n",
            "Digite terceiro nome:duda\n",
            "['maria', 'ana', 'duda']\n"
          ]
        }
      ]
    }
  ]
}